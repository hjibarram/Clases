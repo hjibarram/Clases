{
 "cells": [
  {
   "cell_type": "markdown",
   "id": "51f5dc8c",
   "metadata": {},
   "source": [
    "<h1>Modeling the Dust Extinction</h1>\n",
    "<h2>Mean free path</h2>\n",
    "The mean free path is the average distance over wich a particle travels before it changes its direction or energy: \n",
    "\n",
    "The probabilty that a particle colides with other within a volume of $L\\times L\\times dx$ is defined as:\n",
    "\n",
    "$$ P(stop)=\\frac{Area_{particles}}{Area_{total}}=\\frac{\\sigma n L^2 dx}{L^2}=n\\sigma dx,$$\n",
    "Where $n$ is the particle density and $\\sigma$ is the effective cross section area of the particle.\n",
    "\n",
    "The attenuation of the intensity of a bean of light equals to the original intencity times the probabilty of the bean to colide with a particle:\n",
    "$$dI=-I\\times P(stop)=-In\\sigma dx$$\n",
    "This is a differential equation with the next solution:\n",
    "$$I=I_0 \\exp(-x n\\sigma)$$\n",
    "Therefore the mean free path is:\n",
    "$$\\mathcal{l}=\\frac{1}{n\\sigma}$$\n",
    "\n",
    "$$I=I_0 \\exp\\left(-\\frac{x}{l}\\right)$$\n",
    "\n",
    "<h2>Example:</h2>"
   ]
  },
  {
   "cell_type": "code",
   "execution_count": 16,
   "id": "9d96e6f9",
   "metadata": {
    "scrolled": true
   },
   "outputs": [
    {
     "data": {
      "text/plain": [
       "[<matplotlib.lines.Line2D at 0x11c0ca6a0>]"
      ]
     },
     "execution_count": 16,
     "metadata": {},
     "output_type": "execute_result"
    },
    {
     "data": {
      "image/png": "[encoded data removed]",
      "text/plain": [
       "<Figure size 432x288 with 1 Axes>"
      ]
     },
     "metadata": {
      "needs_background": "light"
     },
     "output_type": "display_data"
    }
   ],
   "source": [
    "import numpy as np\n",
    "import matplotlib.pyplot as plt\n",
    "sigma=1e-4# 1 square micron\n",
    "n=1e-5 #1x10^-5 particles in one cobic meter\n",
    "l=1/(n*sigma)\n",
    "x=np.arange(100)*1e8\n",
    "I=np.exp(-x/l)\n",
    "plt.ylabel(r'Intensity $I(x)/I_0$',fontsize=12)\n",
    "plt.xlabel('Line-of-sight X',fontsize=12)\n",
    "plt.plot(x,I)"
   ]
  },
  {
   "cell_type": "markdown",
   "id": "a73c02f0",
   "metadata": {},
   "source": [
    "<h2>The columnar density</h2>\n",
    "The decaying intencity flux equation is:\n",
    "\n",
    "$$I=I_0 \\exp\\left(-\\frac{x}{l}\\right)$$\n",
    "\n",
    "$$I=I_0 \\exp(-x\\sigma n)$$\n",
    "\n",
    "The term $x\\sigma n$ represents the <b>bold optical depth </b>: $\\tau=x\\sigma n$, with $x$ the total distance of the line-of-sight, and therefore we can rewrite the past equation as:\n",
    "\n",
    "$$I=I_0 \\exp(-\\tau)$$\n",
    "\n",
    "For the case that $n$ changes with its position, we can rewrite the differential definition of the optical depth as:\n",
    "\n",
    "$$d\\tau=dx \\sigma n,$$\n",
    "\n",
    "and therefore the total optical depth is:\n",
    "\n",
    "$$\\tau=\\sigma\\int_0^R  n(x) dx$$\n",
    "\n",
    "$$\\tau=\\sigma N_{dust}$$\n",
    "\n",
    "where $N_{dust}=\\int_0^R  n(x) dx$ is the <b>columnar density</b> of the dust.\n",
    "\n",
    "<h2>Example</h2>"
   ]
  },
  {
   "cell_type": "code",
   "execution_count": 18,
   "id": "8792ab02",
   "metadata": {},
   "outputs": [
    {
     "data": {
      "text/plain": [
       "[<matplotlib.lines.Line2D at 0x11c24a240>]"
      ]
     },
     "execution_count": 18,
     "metadata": {},
     "output_type": "execute_result"
    },
    {
     "data": {
      "image/png": "[encoded data removed]",
      "text/plain": [
       "<Figure size 432x288 with 1 Axes>"
      ]
     },
     "metadata": {
      "needs_background": "light"
     },
     "output_type": "display_data"
    }
   ],
   "source": [
    "import numpy as np\n",
    "import matplotlib.pyplot as plt\n",
    "\n",
    "x=np.arange(100)*1e8\n",
    "#defining the dust density n as a Gaussian funtion\n",
    "\n",
    "n=np.exp(-0.5*(x-50e8)**2./(25e8)**2)*1e-5\n",
    "\n",
    "plt.ylabel(r'Density $n(x)$',fontsize=12)\n",
    "plt.xlabel('Line-of-sight X',fontsize=12)\n",
    "plt.plot(x,n)"
   ]
  },
  {
   "cell_type": "code",
   "execution_count": 19,
   "id": "62a3d05c",
   "metadata": {},
   "outputs": [
    {
     "name": "stdout",
     "output_type": "stream",
     "text": [
      "The columnar density is  59521.19907342067  particles per square meter\n"
     ]
    }
   ],
   "source": [
    "def simpson_r(f,x,i1,i2,typ=0):\n",
    "    n=(i2-i1)*1.0\n",
    "    if n % 2:\n",
    "        n=n+1.0\n",
    "        i2=i2+1\n",
    "    b=x[i2]\n",
    "    a=x[i1]\n",
    "    h=(b-a)/n\n",
    "    s= f[i1]+f[i2]\n",
    "    n=int(n)\n",
    "    dx=b-a\n",
    "    for i in range(1, n, 2):\n",
    "        s += 4 * f[i1+i]\n",
    "    for i in range(2, n-1, 2):\n",
    "        s += 2 * f[i1+i]\n",
    "    if typ == 0:\n",
    "        return s*h/3.0\n",
    "    if typ == 1:\n",
    "        return s*h/3.0/dx\n",
    "    \n",
    "Nt=simpson_r(n,x,0,len(x)-2)\n",
    "print('The columnar density is ',Nt,' particles per square meter')"
   ]
  },
  {
   "cell_type": "code",
   "execution_count": 22,
   "id": "1075b83a",
   "metadata": {},
   "outputs": [
    {
     "name": "stdout",
     "output_type": "stream",
     "text": [
      "the total dust atenuation is  5.952119907342067\n",
      "The total extintion is  99.73996777708412 %\n"
     ]
    }
   ],
   "source": [
    "tau=sigma*Nt\n",
    "print('the optical depth is ',tau)\n",
    "\n",
    "I=np.exp(-tau)\n",
    "print('The total extintion is ',(1-I)*100,'%')"
   ]
  },
  {
   "cell_type": "markdown",
   "id": "6f5ac2d3",
   "metadata": {},
   "source": [
    "<h2>The dust extintion attenuation</h2>\n",
    "\n",
    "Going back to the decaying intencity flux equation:\n",
    "\n",
    "$$I=I_0 \\exp(-\\tau)$$\n",
    "\n",
    "We can change the equation in terms of magnitudes and rewrite the equation as:\n",
    "\n",
    "$$m=-2.5\\log_{10}I$$\n",
    "\n",
    "$$m=-2.5\\log_{10}\\left( I_0\\exp(-\\tau)\\right)$$\n",
    "\n",
    "$$m=-2.5\\log_{10} I_0 -2.5\\frac{\\tau}{\\log(10)}$$\n",
    "\n",
    "$$m=m_0 -\\frac{\\tau}{0.4\\log(10)}$$\n",
    "\n",
    "$$m=m_0 -A_{\\tau}$$\n",
    "\n",
    "Where $A_{\\tau}=\\frac{\\tau}{0.4\\log(10)}$ is the <b>dust extintion attenuation</b>\n",
    "\n",
    "<h2>Example</h2>"
   ]
  },
  {
   "cell_type": "code",
   "execution_count": 23,
   "id": "9092ad05",
   "metadata": {},
   "outputs": [
    {
     "name": "stdout",
     "output_type": "stream",
     "text": [
      "the total dust extintion atenuation is  6.462432078462885 magnitudes\n"
     ]
    }
   ],
   "source": [
    "At=tau/(0.4*np.log(10))\n",
    "print('the total dust extintion atenuation is ',At, 'magnitudes')"
   ]
  },
  {
   "cell_type": "markdown",
   "id": "d08bf7b3",
   "metadata": {},
   "source": [
    "<h2>The dust extintion dependence with the wavelenght</h2>\n",
    "\n",
    "The effective cross section of a dust particle can be defined as:\n",
    "\n",
    "$$ \\sigma=\\pi*a^2\\times Q_{ext},$$\n",
    "\n",
    "with $a$ as the radiuss of the dust particle and $Q_{ext}$ is the efficiency factor for extintion and is defined as:\n",
    "\n",
    "$$Q_{ext}=Q_{abs}+Q_{sca}$$\n",
    "\n",
    "The $Q$ terms are complex mathematical terms but they can be modeled with the <b>Mie Aproximation </b>:\n",
    "\n",
    "$$Q_{ext}=\\frac{2\\pi}{k a^2}\\sum_{n=1}^{\\inf}(2n+1)(|a_n|^2+|b_n|^2)\\propto \\lambda^{-1}$$\n",
    "\n",
    "$$Q_{sca}=\\frac{2\\pi}{k a^2}\\sum_{n=1}^{\\inf}(2n+1)\\mathcal{R}(a_n+b_n)\\propto \\lambda^{-4}$$\n",
    "\n",
    "And therefore:\n",
    "\n",
    "$$\\sigma(\\lambda)=\\pi*a^2\\times\\left( \\frac{C1}{\\lambda}+\\frac{C2}{\\lambda^4}\\right)$$\n",
    "\n",
    "Finally, the total dust atenuation is:\n",
    "\n",
    "$$A_{\\lambda}=\\frac{\\tau(\\lambda)}{0.4\\log(10)}$$\n",
    "\n",
    "$$A_{\\lambda}=\\frac{\\sigma(\\lambda) N_{dust}}{0.4\\log(10)}$$\n",
    "\n",
    "$$A_{\\lambda}=\\frac{\\sigma(\\lambda) \\int_0^R  n(x) dx}{0.4\\log(10)}$$\n",
    "\n",
    "\n",
    "$$A_{\\lambda,a}=\\frac{\\pi*a^2\\times\\left( \\frac{C1}{\\lambda}+\\frac{C2}{\\lambda^4}\\right) \\int_0^R  n_a(x) dx}{0.4\\log(10)}$$\n",
    "\n",
    "<h2>Example</h2>"
   ]
  },
  {
   "cell_type": "code",
   "execution_count": 58,
   "id": "db8ac7f5",
   "metadata": {},
   "outputs": [
    {
     "data": {
      "text/plain": [
       "[<matplotlib.lines.Line2D at 0x11d8486a0>]"
      ]
     },
     "execution_count": 58,
     "metadata": {},
     "output_type": "execute_result"
    },
    {
     "data": {
      "image/png": "[encoded data removed]",
      "text/plain": [
       "<Figure size 432x288 with 1 Axes>"
      ]
     },
     "metadata": {
      "needs_background": "light"
     },
     "output_type": "display_data"
    }
   ],
   "source": [
    "C1=2e-23\n",
    "C2=3e-23\n",
    "lamb=np.arange(1000)/999*(9000-3000)+3000 #wavelength in Angstroms\n",
    "a=1e-4 #one micron of radius\n",
    "sigma=np.pi*a**2*(C1/(lamb*1e-10)+C2/(lamb*1e-10)**4)\n",
    "\n",
    "plt.ylabel(r'$\\sigma(\\lambda)$ [$\\mu m ^2$]',fontsize=12)\n",
    "plt.xlabel('Wavelength $\\AA$',fontsize=12)\n",
    "plt.plot(lamb,sigma/1e-4)"
   ]
  },
  {
   "cell_type": "code",
   "execution_count": 53,
   "id": "a93ec15c",
   "metadata": {},
   "outputs": [
    {
     "data": {
      "text/plain": [
       "[<matplotlib.lines.Line2D at 0x11d1a06a0>]"
      ]
     },
     "execution_count": 53,
     "metadata": {},
     "output_type": "execute_result"
    },
    {
     "data": {
      "image/png": "[encoded data removed]",
      "text/plain": [
       "<Figure size 432x288 with 1 Axes>"
      ]
     },
     "metadata": {
      "needs_background": "light"
     },
     "output_type": "display_data"
    }
   ],
   "source": [
    "tau=sigma*Nt\n",
    "\n",
    "plt.ylabel(r'optical depth $\\tau(\\lambda)$',fontsize=12)\n",
    "plt.xlabel('Wavelength $\\AA$',fontsize=12)\n",
    "plt.plot(lamb,tau)"
   ]
  },
  {
   "cell_type": "code",
   "execution_count": 54,
   "id": "81996e84",
   "metadata": {},
   "outputs": [
    {
     "data": {
      "text/plain": [
       "[<matplotlib.lines.Line2D at 0x11d2b0240>]"
      ]
     },
     "execution_count": 54,
     "metadata": {},
     "output_type": "execute_result"
    },
    {
     "data": {
      "image/png": "[encoded data removed]",
      "text/plain": [
       "<Figure size 432x288 with 1 Axes>"
      ]
     },
     "metadata": {
      "needs_background": "light"
     },
     "output_type": "display_data"
    }
   ],
   "source": [
    "At=tau/(0.4*np.log(10))\n",
    "\n",
    "plt.ylabel(r'$A_{\\lambda,a}$',fontsize=12)\n",
    "plt.xlabel('Wavelength $\\AA$',fontsize=12)\n",
    "plt.plot(lamb,At)"
   ]
  },
  {
   "cell_type": "code",
   "execution_count": 56,
   "id": "4708b713",
   "metadata": {},
   "outputs": [
    {
     "data": {
      "text/plain": [
       "[<matplotlib.lines.Line2D at 0x11d794438>]"
      ]
     },
     "execution_count": 56,
     "metadata": {},
     "output_type": "execute_result"
    },
    {
     "data": {
      "image/png": "[encoded data removed]",
      "text/plain": [
       "<Figure size 432x288 with 1 Axes>"
      ]
     },
     "metadata": {
      "needs_background": "light"
     },
     "output_type": "display_data"
    }
   ],
   "source": [
    "plt.ylabel(r'$A_{\\lambda,a}$',fontsize=12)\n",
    "plt.xlabel('$1/\\AA$ [$\\mu m^{-1}$]',fontsize=12)\n",
    "plt.plot(1/(lamb*1e-4),At)"
   ]
  },
  {
   "cell_type": "markdown",
   "id": "9ddde8ec",
   "metadata": {},
   "source": [
    "<h2>The total extintion curve</h2>\n",
    "\n",
    "Finally, the total extinction curve takes into account the total dust extinction attenuations for all the dusts grains along the line of sight:\n",
    "\n",
    "$$A_{\\lambda}=\\sum_a A_{\\lambda,a}$$\n",
    "\n",
    "<h2>Example</h2>\n",
    "\n",
    "<h3> The Cardelli (1989) extintion law </h3>\n",
    "\n",
    "![title](cardelli.png)"
   ]
  },
  {
   "cell_type": "markdown",
   "id": "62148194",
   "metadata": {},
   "source": [
    "<h2>Bibliography</h2>\n",
    "\n",
    "https://w.astro.berkeley.edu/~ay216/08/NOTES/Lecture05-08.pdf\n",
    "\n",
    "https://ui.adsabs.harvard.edu/abs/1994ApJ...429..582C/abstract\n",
    "\n",
    "https://ui.adsabs.harvard.edu/abs/1989ApJ...345..245C/abstract\n",
    "\n",
    "http://www.astrosen.unam.mx/~aceves/verano/libros/harwit-astro-concepts.pdf\n",
    "\n",
    "https://ned.ipac.caltech.edu/level5/Sept12/Calzetti/Calzetti1_4.html"
   ]
  },
  {
   "cell_type": "code",
   "execution_count": null,
   "id": "03fdcb6d",
   "metadata": {},
   "outputs": [],
   "source": []
  }
 ],
 "metadata": {
  "kernelspec": {
   "display_name": "Python 3",
   "language": "python",
   "name": "python3"
  },
  "language_info": {
   "codemirror_mode": {
    "name": "ipython",
    "version": 3
   },
   "file_extension": ".py",
   "mimetype": "text/x-python",
   "name": "python",
   "nbconvert_exporter": "python",
   "pygments_lexer": "ipython3",
   "version": "3.7.3"
  }
 },
 "nbformat": 4,
 "nbformat_minor": 5
}
